{
 "cells": [
  {
   "cell_type": "markdown",
   "metadata": {},
   "source": [
    "### Car data analysis"
   ]
  },
  {
   "cell_type": "code",
   "execution_count": 1,
   "metadata": {},
   "outputs": [],
   "source": [
    "import pandas as pd\n",
    "import numpy as np\n",
    "import matplotlib.pyplot as plt\n",
    "import seaborn as sns\n",
    "sns.set(style='whitegrid')\n"
   ]
  },
  {
   "cell_type": "markdown",
   "metadata": {},
   "source": [
    "### 2. Load the dataset and inspect basic information\n",
    "\n",
    "We load the car dataset from the `data/` folder and check the first few rows,  \n",
    "column info, and basic statistical summary."
   ]
  },
  {
   "cell_type": "code",
   "execution_count": 2,
   "metadata": {},
   "outputs": [
    {
     "data": {
      "application/vnd.microsoft.datawrangler.viewer.v0+json": {
       "columns": [
        {
         "name": "index",
         "rawType": "int64",
         "type": "integer"
        },
        {
         "name": "Make",
         "rawType": "object",
         "type": "string"
        },
        {
         "name": "Model",
         "rawType": "object",
         "type": "string"
        },
        {
         "name": "Type",
         "rawType": "object",
         "type": "string"
        },
        {
         "name": "Origin",
         "rawType": "object",
         "type": "string"
        },
        {
         "name": "DriveTrain",
         "rawType": "object",
         "type": "string"
        },
        {
         "name": "MSRP",
         "rawType": "object",
         "type": "string"
        },
        {
         "name": "Invoice",
         "rawType": "object",
         "type": "string"
        },
        {
         "name": "EngineSize",
         "rawType": "float64",
         "type": "float"
        },
        {
         "name": "Cylinders",
         "rawType": "float64",
         "type": "float"
        },
        {
         "name": "Horsepower",
         "rawType": "int64",
         "type": "integer"
        },
        {
         "name": "MPG_City",
         "rawType": "int64",
         "type": "integer"
        },
        {
         "name": "MPG_Highway",
         "rawType": "int64",
         "type": "integer"
        },
        {
         "name": "Weight",
         "rawType": "int64",
         "type": "integer"
        },
        {
         "name": "Wheelbase",
         "rawType": "int64",
         "type": "integer"
        },
        {
         "name": "Length",
         "rawType": "int64",
         "type": "integer"
        }
       ],
       "ref": "4bda80da-d7b4-42ab-bf20-b589abc7b3bd",
       "rows": [
        [
         "0",
         "Acura",
         "MDX",
         "SUV",
         "Asia",
         "All",
         "$36,945 ",
         "$33,337 ",
         "3.5",
         "6.0",
         "265",
         "17",
         "23",
         "4451",
         "106",
         "189"
        ],
        [
         "1",
         "Acura",
         "RSX Type S 2dr",
         "Sedan",
         "Asia",
         "Front",
         "$23,820 ",
         "$21,761 ",
         "2.0",
         "4.0",
         "200",
         "24",
         "31",
         "2778",
         "101",
         "172"
        ],
        [
         "2",
         "Acura",
         "TSX 4dr",
         "Sedan",
         "Asia",
         "Front",
         "$26,990 ",
         "$24,647 ",
         "2.4",
         "4.0",
         "200",
         "22",
         "29",
         "3230",
         "105",
         "183"
        ],
        [
         "3",
         "Acura",
         "TL 4dr",
         "Sedan",
         "Asia",
         "Front",
         "$33,195 ",
         "$30,299 ",
         "3.2",
         "6.0",
         "270",
         "20",
         "28",
         "3575",
         "108",
         "186"
        ],
        [
         "4",
         "Acura",
         "3.5 RL 4dr",
         "Sedan",
         "Asia",
         "Front",
         "$43,755 ",
         "$39,014 ",
         "3.5",
         "6.0",
         "225",
         "18",
         "24",
         "3880",
         "115",
         "197"
        ],
        [
         "5",
         "Acura",
         "3.5 RL w/Navigation 4dr",
         "Sedan",
         "Asia",
         "Front",
         "$46,100 ",
         "$41,100 ",
         "3.5",
         "6.0",
         "225",
         "18",
         "24",
         "3893",
         "115",
         "197"
        ],
        [
         "6",
         "Acura",
         "NSX coupe 2dr manual S",
         "Sports",
         "Asia",
         "Rear",
         "$89,765 ",
         "$79,978 ",
         "3.2",
         "6.0",
         "290",
         "17",
         "24",
         "3153",
         "100",
         "174"
        ],
        [
         "7",
         "Audi",
         "A4 1.8T 4dr",
         "Sedan",
         "Europe",
         "Front",
         "$25,940 ",
         "$23,508 ",
         "1.8",
         "4.0",
         "170",
         "22",
         "31",
         "3252",
         "104",
         "179"
        ],
        [
         "8",
         "Audi",
         "A41.8T convertible 2dr",
         "Sedan",
         "Europe",
         "Front",
         "$35,940 ",
         "$32,506 ",
         "1.8",
         "4.0",
         "170",
         "23",
         "30",
         "3638",
         "105",
         "180"
        ],
        [
         "9",
         "Audi",
         "A4 3.0 4dr",
         "Sedan",
         "Europe",
         "Front",
         "$31,840 ",
         "$28,846 ",
         "3.0",
         "6.0",
         "220",
         "20",
         "28",
         "3462",
         "104",
         "179"
        ],
        [
         "10",
         "Audi",
         "A4 3.0 Quattro 4dr manual",
         "Sedan",
         "Europe",
         "All",
         "$33,430 ",
         "$30,366 ",
         "3.0",
         "6.0",
         "220",
         "17",
         "26",
         "3583",
         "104",
         "179"
        ],
        [
         "11",
         "Audi",
         "A4 3.0 Quattro 4dr auto",
         "Sedan",
         "Europe",
         "All",
         "$34,480 ",
         "$31,388 ",
         "3.0",
         "6.0",
         "220",
         "18",
         "25",
         "3627",
         "104",
         "179"
        ],
        [
         "12",
         "Audi",
         "A6 3.0 4dr",
         "Sedan",
         "Europe",
         "Front",
         "$36,640 ",
         "$33,129 ",
         "3.0",
         "6.0",
         "220",
         "20",
         "27",
         "3561",
         "109",
         "192"
        ],
        [
         "13",
         "Audi",
         "A6 3.0 Quattro 4dr",
         "Sedan",
         "Europe",
         "All",
         "$39,640 ",
         "$35,992 ",
         "3.0",
         "6.0",
         "220",
         "18",
         "25",
         "3880",
         "109",
         "192"
        ],
        [
         "14",
         "Audi",
         "A4 3.0 convertible 2dr",
         "Sedan",
         "Europe",
         "Front",
         "$42,490 ",
         "$38,325 ",
         "3.0",
         "6.0",
         "220",
         "20",
         "27",
         "3814",
         "105",
         "180"
        ],
        [
         "15",
         "Audi",
         "A4 3.0 Quattro convertible 2dr",
         "Sedan",
         "Europe",
         "All",
         "$44,240 ",
         "$40,075 ",
         "3.0",
         "6.0",
         "220",
         "18",
         "25",
         "4013",
         "105",
         "180"
        ],
        [
         "16",
         "Audi",
         "A6 2.7 Turbo Quattro 4dr",
         "Sedan",
         "Europe",
         "All",
         "$42,840 ",
         "$38,840 ",
         "2.7",
         "6.0",
         "250",
         "18",
         "25",
         "3836",
         "109",
         "192"
        ],
        [
         "17",
         "Audi",
         "A6 4.2 Quattro 4dr",
         "Sedan",
         "Europe",
         "All",
         "$49,690 ",
         "$44,936 ",
         "4.2",
         "8.0",
         "300",
         "17",
         "24",
         "4024",
         "109",
         "193"
        ],
        [
         "18",
         "Audi",
         "A8 L Quattro 4dr",
         "Sedan",
         "Europe",
         "All",
         "$69,190 ",
         "$64,740 ",
         "4.2",
         "8.0",
         "330",
         "17",
         "24",
         "4399",
         "121",
         "204"
        ],
        [
         "19",
         "Audi",
         "S4 Quattro 4dr",
         "Sedan",
         "Europe",
         "All",
         "$48,040 ",
         "$43,556 ",
         "4.2",
         "8.0",
         "340",
         "14",
         "20",
         "3825",
         "104",
         "179"
        ],
        [
         "20",
         "Audi",
         "RS 6 4dr",
         "Sports",
         "Europe",
         "Front",
         "$84,600 ",
         "$76,417 ",
         "4.2",
         "8.0",
         "450",
         "15",
         "22",
         "4024",
         "109",
         "191"
        ],
        [
         "21",
         "Audi",
         "TT 1.8 convertible 2dr (coupe)",
         "Sports",
         "Europe",
         "Front",
         "$35,940 ",
         "$32,512 ",
         "1.8",
         "4.0",
         "180",
         "20",
         "28",
         "3131",
         "95",
         "159"
        ],
        [
         "22",
         "Audi",
         "TT 1.8 Quattro 2dr (convertible)",
         "Sports",
         "Europe",
         "All",
         "$37,390 ",
         "$33,891 ",
         "1.8",
         "4.0",
         "225",
         "20",
         "28",
         "2921",
         "96",
         "159"
        ],
        [
         "23",
         "Audi",
         "TT 3.2 coupe 2dr (convertible)",
         "Sports",
         "Europe",
         "All",
         "$40,590 ",
         "$36,739 ",
         "3.2",
         "6.0",
         "250",
         "21",
         "29",
         "3351",
         "96",
         "159"
        ],
        [
         "24",
         "Audi",
         "A6 3.0 Avant Quattro",
         "Wagon",
         "Europe",
         "All",
         "$40,840 ",
         "$37,060 ",
         "3.0",
         "6.0",
         "220",
         "18",
         "25",
         "4035",
         "109",
         "192"
        ],
        [
         "25",
         "Audi",
         "S4 Avant Quattro",
         "Wagon",
         "Europe",
         "All",
         "$49,090 ",
         "$44,446 ",
         "4.2",
         "8.0",
         "340",
         "15",
         "21",
         "3936",
         "104",
         "179"
        ],
        [
         "26",
         "BMW",
         "X3 3.0i",
         "SUV",
         "Europe",
         "All",
         "$37,000 ",
         "$33,873 ",
         "3.0",
         "6.0",
         "225",
         "16",
         "23",
         "4023",
         "110",
         "180"
        ],
        [
         "27",
         "BMW",
         "X5 4.4i",
         "SUV",
         "Europe",
         "All",
         "$52,195 ",
         "$47,720 ",
         "4.4",
         "8.0",
         "325",
         "16",
         "22",
         "4824",
         "111",
         "184"
        ],
        [
         "28",
         "BMW",
         "325i 4dr",
         "Sedan",
         "Europe",
         "Rear",
         "$28,495 ",
         "$26,155 ",
         "2.5",
         "6.0",
         "184",
         "20",
         "29",
         "3219",
         "107",
         "176"
        ],
        [
         "29",
         "BMW",
         "325Ci 2dr",
         "Sedan",
         "Europe",
         "Rear",
         "$30,795 ",
         "$28,245 ",
         "2.5",
         "6.0",
         "184",
         "20",
         "29",
         "3197",
         "107",
         "177"
        ],
        [
         "30",
         "BMW",
         "325Ci convertible 2dr",
         "Sedan",
         "Europe",
         "Rear",
         "$37,995 ",
         "$34,800 ",
         "2.5",
         "6.0",
         "184",
         "19",
         "27",
         "3560",
         "107",
         "177"
        ],
        [
         "31",
         "BMW",
         "325xi 4dr",
         "Sedan",
         "Europe",
         "All",
         "$30,245 ",
         "$27,745 ",
         "2.5",
         "6.0",
         "184",
         "19",
         "27",
         "3461",
         "107",
         "176"
        ],
        [
         "32",
         "BMW",
         "330i 4dr",
         "Sedan",
         "Europe",
         "Rear",
         "$35,495 ",
         "$32,525 ",
         "3.0",
         "6.0",
         "225",
         "20",
         "30",
         "3285",
         "107",
         "176"
        ],
        [
         "33",
         "BMW",
         "330Ci 2dr",
         "Sedan",
         "Europe",
         "Rear",
         "$36,995 ",
         "$33,890 ",
         "3.0",
         "6.0",
         "225",
         "20",
         "30",
         "3285",
         "107",
         "176"
        ],
        [
         "34",
         "BMW",
         "330xi 4dr",
         "Sedan",
         "Europe",
         "All",
         "$37,245 ",
         "$34,115 ",
         "3.0",
         "6.0",
         "225",
         "20",
         "29",
         "3483",
         "107",
         "176"
        ],
        [
         "35",
         "BMW",
         "525i 4dr",
         "Sedan",
         "Europe",
         "Rear",
         "$39,995 ",
         "$36,620 ",
         "2.5",
         "6.0",
         "184",
         "19",
         "28",
         "3428",
         "114",
         "191"
        ],
        [
         "36",
         "BMW",
         "330Ci convertible 2dr",
         "Sedan",
         "Europe",
         "Rear",
         "$44,295 ",
         "$40,530 ",
         "3.0",
         "6.0",
         "225",
         "19",
         "28",
         "3616",
         "107",
         "177"
        ],
        [
         "37",
         "BMW",
         "530i 4dr",
         "Sedan",
         "Europe",
         "Rear",
         "$44,995 ",
         "$41,170 ",
         "3.0",
         "6.0",
         "225",
         "20",
         "30",
         "3472",
         "114",
         "191"
        ],
        [
         "38",
         "BMW",
         "545iA 4dr",
         "Sedan",
         "Europe",
         "Rear",
         "$54,995 ",
         "$50,270 ",
         "4.4",
         "8.0",
         "325",
         "18",
         "26",
         "3814",
         "114",
         "191"
        ],
        [
         "39",
         "BMW",
         "745i 4dr",
         "Sedan",
         "Europe",
         "Rear",
         "$69,195 ",
         "$63,190 ",
         "4.4",
         "8.0",
         "325",
         "18",
         "26",
         "4376",
         "118",
         "198"
        ],
        [
         "40",
         "BMW",
         "745Li 4dr",
         "Sedan",
         "Europe",
         "Rear",
         "$73,195 ",
         "$66,830 ",
         "4.4",
         "8.0",
         "325",
         "18",
         "26",
         "4464",
         "123",
         "204"
        ],
        [
         "41",
         "BMW",
         "M3 coupe 2dr",
         "Sports",
         "Europe",
         "Rear",
         "$48,195 ",
         "$44,170 ",
         "3.2",
         "6.0",
         "333",
         "16",
         "24",
         "3415",
         "108",
         "177"
        ],
        [
         "42",
         "BMW",
         "M3 convertible 2dr",
         "Sports",
         "Europe",
         "Rear",
         "$56,595 ",
         "$51,815 ",
         "3.2",
         "6.0",
         "333",
         "16",
         "23",
         "3781",
         "108",
         "177"
        ],
        [
         "43",
         "BMW",
         "Z4 convertible 2.5i 2dr",
         "Sports",
         "Europe",
         "Rear",
         "$33,895 ",
         "$31,065 ",
         "2.5",
         "6.0",
         "184",
         "20",
         "28",
         "2932",
         "98",
         "161"
        ],
        [
         "44",
         "BMW",
         "Z4 convertible 3.0i 2dr",
         "Sports",
         "Europe",
         "Rear",
         "$41,045 ",
         "$37,575 ",
         "3.0",
         "6.0",
         "225",
         "21",
         "29",
         "2998",
         "98",
         "161"
        ],
        [
         "45",
         "BMW",
         "325xi Sport",
         "Wagon",
         "Europe",
         "All",
         "$32,845 ",
         "$30,110 ",
         "2.5",
         "6.0",
         "184",
         "19",
         "26",
         "3594",
         "107",
         "176"
        ],
        [
         "46",
         "Buick",
         "Rainier",
         "SUV",
         "USA",
         "All",
         "$37,895 ",
         "$34,357 ",
         "4.2",
         "6.0",
         "275",
         "15",
         "21",
         "4600",
         "113",
         "193"
        ],
        [
         "47",
         "Buick",
         "Rendezvous CX",
         "SUV",
         "USA",
         "Front",
         "$26,545 ",
         "$24,085 ",
         "3.4",
         "6.0",
         "185",
         "19",
         "26",
         "4024",
         "112",
         "187"
        ],
        [
         "48",
         "Buick",
         "Century Custom 4dr",
         "Sedan",
         "USA",
         "Front",
         "$22,180 ",
         "$20,351 ",
         "3.1",
         "6.0",
         "175",
         "20",
         "30",
         "3353",
         "109",
         "195"
        ],
        [
         "49",
         "Buick",
         "LeSabre Custom 4dr",
         "Sedan",
         "USA",
         "Front",
         "$26,470 ",
         "$24,282 ",
         "3.8",
         "6.0",
         "205",
         "20",
         "29",
         "3567",
         "112",
         "200"
        ]
       ],
       "shape": {
        "columns": 15,
        "rows": 428
       }
      },
      "text/html": [
       "<div>\n",
       "<style scoped>\n",
       "    .dataframe tbody tr th:only-of-type {\n",
       "        vertical-align: middle;\n",
       "    }\n",
       "\n",
       "    .dataframe tbody tr th {\n",
       "        vertical-align: top;\n",
       "    }\n",
       "\n",
       "    .dataframe thead th {\n",
       "        text-align: right;\n",
       "    }\n",
       "</style>\n",
       "<table border=\"1\" class=\"dataframe\">\n",
       "  <thead>\n",
       "    <tr style=\"text-align: right;\">\n",
       "      <th></th>\n",
       "      <th>Make</th>\n",
       "      <th>Model</th>\n",
       "      <th>Type</th>\n",
       "      <th>Origin</th>\n",
       "      <th>DriveTrain</th>\n",
       "      <th>MSRP</th>\n",
       "      <th>Invoice</th>\n",
       "      <th>EngineSize</th>\n",
       "      <th>Cylinders</th>\n",
       "      <th>Horsepower</th>\n",
       "      <th>MPG_City</th>\n",
       "      <th>MPG_Highway</th>\n",
       "      <th>Weight</th>\n",
       "      <th>Wheelbase</th>\n",
       "      <th>Length</th>\n",
       "    </tr>\n",
       "  </thead>\n",
       "  <tbody>\n",
       "    <tr>\n",
       "      <th>0</th>\n",
       "      <td>Acura</td>\n",
       "      <td>MDX</td>\n",
       "      <td>SUV</td>\n",
       "      <td>Asia</td>\n",
       "      <td>All</td>\n",
       "      <td>$36,945</td>\n",
       "      <td>$33,337</td>\n",
       "      <td>3.5</td>\n",
       "      <td>6.0</td>\n",
       "      <td>265</td>\n",
       "      <td>17</td>\n",
       "      <td>23</td>\n",
       "      <td>4451</td>\n",
       "      <td>106</td>\n",
       "      <td>189</td>\n",
       "    </tr>\n",
       "    <tr>\n",
       "      <th>1</th>\n",
       "      <td>Acura</td>\n",
       "      <td>RSX Type S 2dr</td>\n",
       "      <td>Sedan</td>\n",
       "      <td>Asia</td>\n",
       "      <td>Front</td>\n",
       "      <td>$23,820</td>\n",
       "      <td>$21,761</td>\n",
       "      <td>2.0</td>\n",
       "      <td>4.0</td>\n",
       "      <td>200</td>\n",
       "      <td>24</td>\n",
       "      <td>31</td>\n",
       "      <td>2778</td>\n",
       "      <td>101</td>\n",
       "      <td>172</td>\n",
       "    </tr>\n",
       "    <tr>\n",
       "      <th>2</th>\n",
       "      <td>Acura</td>\n",
       "      <td>TSX 4dr</td>\n",
       "      <td>Sedan</td>\n",
       "      <td>Asia</td>\n",
       "      <td>Front</td>\n",
       "      <td>$26,990</td>\n",
       "      <td>$24,647</td>\n",
       "      <td>2.4</td>\n",
       "      <td>4.0</td>\n",
       "      <td>200</td>\n",
       "      <td>22</td>\n",
       "      <td>29</td>\n",
       "      <td>3230</td>\n",
       "      <td>105</td>\n",
       "      <td>183</td>\n",
       "    </tr>\n",
       "    <tr>\n",
       "      <th>3</th>\n",
       "      <td>Acura</td>\n",
       "      <td>TL 4dr</td>\n",
       "      <td>Sedan</td>\n",
       "      <td>Asia</td>\n",
       "      <td>Front</td>\n",
       "      <td>$33,195</td>\n",
       "      <td>$30,299</td>\n",
       "      <td>3.2</td>\n",
       "      <td>6.0</td>\n",
       "      <td>270</td>\n",
       "      <td>20</td>\n",
       "      <td>28</td>\n",
       "      <td>3575</td>\n",
       "      <td>108</td>\n",
       "      <td>186</td>\n",
       "    </tr>\n",
       "    <tr>\n",
       "      <th>4</th>\n",
       "      <td>Acura</td>\n",
       "      <td>3.5 RL 4dr</td>\n",
       "      <td>Sedan</td>\n",
       "      <td>Asia</td>\n",
       "      <td>Front</td>\n",
       "      <td>$43,755</td>\n",
       "      <td>$39,014</td>\n",
       "      <td>3.5</td>\n",
       "      <td>6.0</td>\n",
       "      <td>225</td>\n",
       "      <td>18</td>\n",
       "      <td>24</td>\n",
       "      <td>3880</td>\n",
       "      <td>115</td>\n",
       "      <td>197</td>\n",
       "    </tr>\n",
       "    <tr>\n",
       "      <th>...</th>\n",
       "      <td>...</td>\n",
       "      <td>...</td>\n",
       "      <td>...</td>\n",
       "      <td>...</td>\n",
       "      <td>...</td>\n",
       "      <td>...</td>\n",
       "      <td>...</td>\n",
       "      <td>...</td>\n",
       "      <td>...</td>\n",
       "      <td>...</td>\n",
       "      <td>...</td>\n",
       "      <td>...</td>\n",
       "      <td>...</td>\n",
       "      <td>...</td>\n",
       "      <td>...</td>\n",
       "    </tr>\n",
       "    <tr>\n",
       "      <th>423</th>\n",
       "      <td>Volvo</td>\n",
       "      <td>C70 LPT convertible 2dr</td>\n",
       "      <td>Sedan</td>\n",
       "      <td>Europe</td>\n",
       "      <td>Front</td>\n",
       "      <td>$40,565</td>\n",
       "      <td>$38,203</td>\n",
       "      <td>2.4</td>\n",
       "      <td>5.0</td>\n",
       "      <td>197</td>\n",
       "      <td>21</td>\n",
       "      <td>28</td>\n",
       "      <td>3450</td>\n",
       "      <td>105</td>\n",
       "      <td>186</td>\n",
       "    </tr>\n",
       "    <tr>\n",
       "      <th>424</th>\n",
       "      <td>Volvo</td>\n",
       "      <td>C70 HPT convertible 2dr</td>\n",
       "      <td>Sedan</td>\n",
       "      <td>Europe</td>\n",
       "      <td>Front</td>\n",
       "      <td>$42,565</td>\n",
       "      <td>$40,083</td>\n",
       "      <td>2.3</td>\n",
       "      <td>5.0</td>\n",
       "      <td>242</td>\n",
       "      <td>20</td>\n",
       "      <td>26</td>\n",
       "      <td>3450</td>\n",
       "      <td>105</td>\n",
       "      <td>186</td>\n",
       "    </tr>\n",
       "    <tr>\n",
       "      <th>425</th>\n",
       "      <td>Volvo</td>\n",
       "      <td>S80 T6 4dr</td>\n",
       "      <td>Sedan</td>\n",
       "      <td>Europe</td>\n",
       "      <td>Front</td>\n",
       "      <td>$45,210</td>\n",
       "      <td>$42,573</td>\n",
       "      <td>2.9</td>\n",
       "      <td>6.0</td>\n",
       "      <td>268</td>\n",
       "      <td>19</td>\n",
       "      <td>26</td>\n",
       "      <td>3653</td>\n",
       "      <td>110</td>\n",
       "      <td>190</td>\n",
       "    </tr>\n",
       "    <tr>\n",
       "      <th>426</th>\n",
       "      <td>Volvo</td>\n",
       "      <td>V40</td>\n",
       "      <td>Wagon</td>\n",
       "      <td>Europe</td>\n",
       "      <td>Front</td>\n",
       "      <td>$26,135</td>\n",
       "      <td>$24,641</td>\n",
       "      <td>1.9</td>\n",
       "      <td>4.0</td>\n",
       "      <td>170</td>\n",
       "      <td>22</td>\n",
       "      <td>29</td>\n",
       "      <td>2822</td>\n",
       "      <td>101</td>\n",
       "      <td>180</td>\n",
       "    </tr>\n",
       "    <tr>\n",
       "      <th>427</th>\n",
       "      <td>Volvo</td>\n",
       "      <td>XC70</td>\n",
       "      <td>Wagon</td>\n",
       "      <td>Europe</td>\n",
       "      <td>All</td>\n",
       "      <td>$35,145</td>\n",
       "      <td>$33,112</td>\n",
       "      <td>2.5</td>\n",
       "      <td>5.0</td>\n",
       "      <td>208</td>\n",
       "      <td>20</td>\n",
       "      <td>27</td>\n",
       "      <td>3823</td>\n",
       "      <td>109</td>\n",
       "      <td>186</td>\n",
       "    </tr>\n",
       "  </tbody>\n",
       "</table>\n",
       "<p>428 rows × 15 columns</p>\n",
       "</div>"
      ],
      "text/plain": [
       "      Make                    Model   Type  Origin DriveTrain      MSRP  \\\n",
       "0    Acura                      MDX    SUV    Asia        All  $36,945    \n",
       "1    Acura           RSX Type S 2dr  Sedan    Asia      Front  $23,820    \n",
       "2    Acura                  TSX 4dr  Sedan    Asia      Front  $26,990    \n",
       "3    Acura                   TL 4dr  Sedan    Asia      Front  $33,195    \n",
       "4    Acura               3.5 RL 4dr  Sedan    Asia      Front  $43,755    \n",
       "..     ...                      ...    ...     ...        ...       ...   \n",
       "423  Volvo  C70 LPT convertible 2dr  Sedan  Europe      Front  $40,565    \n",
       "424  Volvo  C70 HPT convertible 2dr  Sedan  Europe      Front  $42,565    \n",
       "425  Volvo               S80 T6 4dr  Sedan  Europe      Front  $45,210    \n",
       "426  Volvo                      V40  Wagon  Europe      Front  $26,135    \n",
       "427  Volvo                     XC70  Wagon  Europe        All  $35,145    \n",
       "\n",
       "      Invoice  EngineSize  Cylinders  Horsepower  MPG_City  MPG_Highway  \\\n",
       "0    $33,337          3.5        6.0         265        17           23   \n",
       "1    $21,761          2.0        4.0         200        24           31   \n",
       "2    $24,647          2.4        4.0         200        22           29   \n",
       "3    $30,299          3.2        6.0         270        20           28   \n",
       "4    $39,014          3.5        6.0         225        18           24   \n",
       "..        ...         ...        ...         ...       ...          ...   \n",
       "423  $38,203          2.4        5.0         197        21           28   \n",
       "424  $40,083          2.3        5.0         242        20           26   \n",
       "425  $42,573          2.9        6.0         268        19           26   \n",
       "426  $24,641          1.9        4.0         170        22           29   \n",
       "427  $33,112          2.5        5.0         208        20           27   \n",
       "\n",
       "     Weight  Wheelbase  Length  \n",
       "0      4451        106     189  \n",
       "1      2778        101     172  \n",
       "2      3230        105     183  \n",
       "3      3575        108     186  \n",
       "4      3880        115     197  \n",
       "..      ...        ...     ...  \n",
       "423    3450        105     186  \n",
       "424    3450        105     186  \n",
       "425    3653        110     190  \n",
       "426    2822        101     180  \n",
       "427    3823        109     186  \n",
       "\n",
       "[428 rows x 15 columns]"
      ]
     },
     "execution_count": 2,
     "metadata": {},
     "output_type": "execute_result"
    }
   ],
   "source": [
    "data = pd.DataFrame(pd.read_csv(r\"D:\\practice projects files\\Data Analysis\\Car Data Analysis\\Data\\car_dataset.csv\"))\n",
    "data"
   ]
  },
  {
   "cell_type": "code",
   "execution_count": 3,
   "metadata": {},
   "outputs": [
    {
     "name": "stdout",
     "output_type": "stream",
     "text": [
      "<class 'pandas.core.frame.DataFrame'>\n",
      "RangeIndex: 428 entries, 0 to 427\n",
      "Data columns (total 15 columns):\n",
      " #   Column       Non-Null Count  Dtype  \n",
      "---  ------       --------------  -----  \n",
      " 0   Make         428 non-null    object \n",
      " 1   Model        428 non-null    object \n",
      " 2   Type         428 non-null    object \n",
      " 3   Origin       428 non-null    object \n",
      " 4   DriveTrain   428 non-null    object \n",
      " 5   MSRP         428 non-null    object \n",
      " 6   Invoice      428 non-null    object \n",
      " 7   EngineSize   428 non-null    float64\n",
      " 8   Cylinders    426 non-null    float64\n",
      " 9   Horsepower   428 non-null    int64  \n",
      " 10  MPG_City     428 non-null    int64  \n",
      " 11  MPG_Highway  428 non-null    int64  \n",
      " 12  Weight       428 non-null    int64  \n",
      " 13  Wheelbase    428 non-null    int64  \n",
      " 14  Length       428 non-null    int64  \n",
      "dtypes: float64(2), int64(6), object(7)\n",
      "memory usage: 50.3+ KB\n"
     ]
    }
   ],
   "source": [
    "data.info()"
   ]
  },
  {
   "cell_type": "code",
   "execution_count": 4,
   "metadata": {},
   "outputs": [
    {
     "data": {
      "application/vnd.microsoft.datawrangler.viewer.v0+json": {
       "columns": [
        {
         "name": "index",
         "rawType": "object",
         "type": "string"
        },
        {
         "name": "EngineSize",
         "rawType": "float64",
         "type": "float"
        },
        {
         "name": "Cylinders",
         "rawType": "float64",
         "type": "float"
        },
        {
         "name": "Horsepower",
         "rawType": "float64",
         "type": "float"
        },
        {
         "name": "MPG_City",
         "rawType": "float64",
         "type": "float"
        },
        {
         "name": "MPG_Highway",
         "rawType": "float64",
         "type": "float"
        },
        {
         "name": "Weight",
         "rawType": "float64",
         "type": "float"
        },
        {
         "name": "Wheelbase",
         "rawType": "float64",
         "type": "float"
        },
        {
         "name": "Length",
         "rawType": "float64",
         "type": "float"
        }
       ],
       "ref": "d3f60e7d-891c-478b-9071-b9741a774a9f",
       "rows": [
        [
         "count",
         "428.0",
         "426.0",
         "428.0",
         "428.0",
         "428.0",
         "428.0",
         "428.0",
         "428.0"
        ],
        [
         "mean",
         "3.1967289719626164",
         "5.807511737089202",
         "215.8855140186916",
         "20.060747663551403",
         "26.843457943925234",
         "3577.9532710280373",
         "108.15420560747664",
         "186.36214953271028"
        ],
        [
         "std",
         "1.1085947183514753",
         "1.5584426332202217",
         "71.83603158369077",
         "5.238217638649044",
         "5.741200716984228",
         "758.9832146098709",
         "8.31181299108951",
         "14.357991256895623"
        ],
        [
         "min",
         "1.3",
         "3.0",
         "73.0",
         "10.0",
         "12.0",
         "1850.0",
         "89.0",
         "143.0"
        ],
        [
         "25%",
         "2.375",
         "4.0",
         "165.0",
         "17.0",
         "24.0",
         "3104.0",
         "103.0",
         "178.0"
        ],
        [
         "50%",
         "3.0",
         "6.0",
         "210.0",
         "19.0",
         "26.0",
         "3474.5",
         "107.0",
         "187.0"
        ],
        [
         "75%",
         "3.9",
         "6.0",
         "255.0",
         "21.25",
         "29.0",
         "3977.75",
         "112.0",
         "194.0"
        ],
        [
         "max",
         "8.3",
         "12.0",
         "500.0",
         "60.0",
         "66.0",
         "7190.0",
         "144.0",
         "238.0"
        ]
       ],
       "shape": {
        "columns": 8,
        "rows": 8
       }
      },
      "text/html": [
       "<div>\n",
       "<style scoped>\n",
       "    .dataframe tbody tr th:only-of-type {\n",
       "        vertical-align: middle;\n",
       "    }\n",
       "\n",
       "    .dataframe tbody tr th {\n",
       "        vertical-align: top;\n",
       "    }\n",
       "\n",
       "    .dataframe thead th {\n",
       "        text-align: right;\n",
       "    }\n",
       "</style>\n",
       "<table border=\"1\" class=\"dataframe\">\n",
       "  <thead>\n",
       "    <tr style=\"text-align: right;\">\n",
       "      <th></th>\n",
       "      <th>EngineSize</th>\n",
       "      <th>Cylinders</th>\n",
       "      <th>Horsepower</th>\n",
       "      <th>MPG_City</th>\n",
       "      <th>MPG_Highway</th>\n",
       "      <th>Weight</th>\n",
       "      <th>Wheelbase</th>\n",
       "      <th>Length</th>\n",
       "    </tr>\n",
       "  </thead>\n",
       "  <tbody>\n",
       "    <tr>\n",
       "      <th>count</th>\n",
       "      <td>428.000000</td>\n",
       "      <td>426.000000</td>\n",
       "      <td>428.000000</td>\n",
       "      <td>428.000000</td>\n",
       "      <td>428.000000</td>\n",
       "      <td>428.000000</td>\n",
       "      <td>428.000000</td>\n",
       "      <td>428.000000</td>\n",
       "    </tr>\n",
       "    <tr>\n",
       "      <th>mean</th>\n",
       "      <td>3.196729</td>\n",
       "      <td>5.807512</td>\n",
       "      <td>215.885514</td>\n",
       "      <td>20.060748</td>\n",
       "      <td>26.843458</td>\n",
       "      <td>3577.953271</td>\n",
       "      <td>108.154206</td>\n",
       "      <td>186.362150</td>\n",
       "    </tr>\n",
       "    <tr>\n",
       "      <th>std</th>\n",
       "      <td>1.108595</td>\n",
       "      <td>1.558443</td>\n",
       "      <td>71.836032</td>\n",
       "      <td>5.238218</td>\n",
       "      <td>5.741201</td>\n",
       "      <td>758.983215</td>\n",
       "      <td>8.311813</td>\n",
       "      <td>14.357991</td>\n",
       "    </tr>\n",
       "    <tr>\n",
       "      <th>min</th>\n",
       "      <td>1.300000</td>\n",
       "      <td>3.000000</td>\n",
       "      <td>73.000000</td>\n",
       "      <td>10.000000</td>\n",
       "      <td>12.000000</td>\n",
       "      <td>1850.000000</td>\n",
       "      <td>89.000000</td>\n",
       "      <td>143.000000</td>\n",
       "    </tr>\n",
       "    <tr>\n",
       "      <th>25%</th>\n",
       "      <td>2.375000</td>\n",
       "      <td>4.000000</td>\n",
       "      <td>165.000000</td>\n",
       "      <td>17.000000</td>\n",
       "      <td>24.000000</td>\n",
       "      <td>3104.000000</td>\n",
       "      <td>103.000000</td>\n",
       "      <td>178.000000</td>\n",
       "    </tr>\n",
       "    <tr>\n",
       "      <th>50%</th>\n",
       "      <td>3.000000</td>\n",
       "      <td>6.000000</td>\n",
       "      <td>210.000000</td>\n",
       "      <td>19.000000</td>\n",
       "      <td>26.000000</td>\n",
       "      <td>3474.500000</td>\n",
       "      <td>107.000000</td>\n",
       "      <td>187.000000</td>\n",
       "    </tr>\n",
       "    <tr>\n",
       "      <th>75%</th>\n",
       "      <td>3.900000</td>\n",
       "      <td>6.000000</td>\n",
       "      <td>255.000000</td>\n",
       "      <td>21.250000</td>\n",
       "      <td>29.000000</td>\n",
       "      <td>3977.750000</td>\n",
       "      <td>112.000000</td>\n",
       "      <td>194.000000</td>\n",
       "    </tr>\n",
       "    <tr>\n",
       "      <th>max</th>\n",
       "      <td>8.300000</td>\n",
       "      <td>12.000000</td>\n",
       "      <td>500.000000</td>\n",
       "      <td>60.000000</td>\n",
       "      <td>66.000000</td>\n",
       "      <td>7190.000000</td>\n",
       "      <td>144.000000</td>\n",
       "      <td>238.000000</td>\n",
       "    </tr>\n",
       "  </tbody>\n",
       "</table>\n",
       "</div>"
      ],
      "text/plain": [
       "       EngineSize   Cylinders  Horsepower    MPG_City  MPG_Highway  \\\n",
       "count  428.000000  426.000000  428.000000  428.000000   428.000000   \n",
       "mean     3.196729    5.807512  215.885514   20.060748    26.843458   \n",
       "std      1.108595    1.558443   71.836032    5.238218     5.741201   \n",
       "min      1.300000    3.000000   73.000000   10.000000    12.000000   \n",
       "25%      2.375000    4.000000  165.000000   17.000000    24.000000   \n",
       "50%      3.000000    6.000000  210.000000   19.000000    26.000000   \n",
       "75%      3.900000    6.000000  255.000000   21.250000    29.000000   \n",
       "max      8.300000   12.000000  500.000000   60.000000    66.000000   \n",
       "\n",
       "            Weight   Wheelbase      Length  \n",
       "count   428.000000  428.000000  428.000000  \n",
       "mean   3577.953271  108.154206  186.362150  \n",
       "std     758.983215    8.311813   14.357991  \n",
       "min    1850.000000   89.000000  143.000000  \n",
       "25%    3104.000000  103.000000  178.000000  \n",
       "50%    3474.500000  107.000000  187.000000  \n",
       "75%    3977.750000  112.000000  194.000000  \n",
       "max    7190.000000  144.000000  238.000000  "
      ]
     },
     "execution_count": 4,
     "metadata": {},
     "output_type": "execute_result"
    }
   ],
   "source": [
    "data.describe()"
   ]
  },
  {
   "cell_type": "code",
   "execution_count": 5,
   "metadata": {},
   "outputs": [
    {
     "data": {
      "text/plain": [
       "(428, 15)"
      ]
     },
     "execution_count": 5,
     "metadata": {},
     "output_type": "execute_result"
    }
   ],
   "source": [
    "data.shape"
   ]
  },
  {
   "cell_type": "markdown",
   "metadata": {},
   "source": [
    "### 1. Data Cleaning\n",
    "\n",
    "We first check for missing values in the dataset.  \n",
    "- For numeric columns with missing values, we fill them with the **mean** of the column.  \n",
    "- Any completely empty or misaligned rows/columns have been removed manually.\n"
   ]
  },
  {
   "cell_type": "code",
   "execution_count": 6,
   "metadata": {},
   "outputs": [
    {
     "data": {
      "application/vnd.microsoft.datawrangler.viewer.v0+json": {
       "columns": [
        {
         "name": "index",
         "rawType": "object",
         "type": "string"
        },
        {
         "name": "0",
         "rawType": "int64",
         "type": "integer"
        }
       ],
       "ref": "fe1ed2ff-8307-485e-bb42-d5e8c21f103f",
       "rows": [
        [
         "Make",
         "0"
        ],
        [
         "Model",
         "0"
        ],
        [
         "Type",
         "0"
        ],
        [
         "Origin",
         "0"
        ],
        [
         "DriveTrain",
         "0"
        ],
        [
         "MSRP",
         "0"
        ],
        [
         "Invoice",
         "0"
        ],
        [
         "EngineSize",
         "0"
        ],
        [
         "Cylinders",
         "2"
        ],
        [
         "Horsepower",
         "0"
        ],
        [
         "MPG_City",
         "0"
        ],
        [
         "MPG_Highway",
         "0"
        ],
        [
         "Weight",
         "0"
        ],
        [
         "Wheelbase",
         "0"
        ],
        [
         "Length",
         "0"
        ]
       ],
       "shape": {
        "columns": 1,
        "rows": 15
       }
      },
      "text/plain": [
       "Make           0\n",
       "Model          0\n",
       "Type           0\n",
       "Origin         0\n",
       "DriveTrain     0\n",
       "MSRP           0\n",
       "Invoice        0\n",
       "EngineSize     0\n",
       "Cylinders      2\n",
       "Horsepower     0\n",
       "MPG_City       0\n",
       "MPG_Highway    0\n",
       "Weight         0\n",
       "Wheelbase      0\n",
       "Length         0\n",
       "dtype: int64"
      ]
     },
     "execution_count": 6,
     "metadata": {},
     "output_type": "execute_result"
    }
   ],
   "source": [
    "data.isnull().sum()"
   ]
  },
  {
   "cell_type": "code",
   "execution_count": 7,
   "metadata": {},
   "outputs": [
    {
     "name": "stderr",
     "output_type": "stream",
     "text": [
      "C:\\Users\\bayat\\AppData\\Local\\Temp\\ipykernel_9652\\1575210492.py:1: FutureWarning: A value is trying to be set on a copy of a DataFrame or Series through chained assignment using an inplace method.\n",
      "The behavior will change in pandas 3.0. This inplace method will never work because the intermediate object on which we are setting values always behaves as a copy.\n",
      "\n",
      "For example, when doing 'df[col].method(value, inplace=True)', try using 'df.method({col: value}, inplace=True)' or df[col] = df[col].method(value) instead, to perform the operation inplace on the original object.\n",
      "\n",
      "\n",
      "  data[\"Cylinders\"].fillna(data[\"Cylinders\"].mean(), inplace=True)\n"
     ]
    }
   ],
   "source": [
    "data[\"Cylinders\"].fillna(data[\"Cylinders\"].mean(), inplace=True)"
   ]
  },
  {
   "cell_type": "code",
   "execution_count": 8,
   "metadata": {},
   "outputs": [
    {
     "data": {
      "application/vnd.microsoft.datawrangler.viewer.v0+json": {
       "columns": [
        {
         "name": "index",
         "rawType": "object",
         "type": "string"
        },
        {
         "name": "0",
         "rawType": "int64",
         "type": "integer"
        }
       ],
       "ref": "91a1e3cf-f668-4f12-aac1-430b1a245d98",
       "rows": [
        [
         "Make",
         "0"
        ],
        [
         "Model",
         "0"
        ],
        [
         "Type",
         "0"
        ],
        [
         "Origin",
         "0"
        ],
        [
         "DriveTrain",
         "0"
        ],
        [
         "MSRP",
         "0"
        ],
        [
         "Invoice",
         "0"
        ],
        [
         "EngineSize",
         "0"
        ],
        [
         "Cylinders",
         "0"
        ],
        [
         "Horsepower",
         "0"
        ],
        [
         "MPG_City",
         "0"
        ],
        [
         "MPG_Highway",
         "0"
        ],
        [
         "Weight",
         "0"
        ],
        [
         "Wheelbase",
         "0"
        ],
        [
         "Length",
         "0"
        ]
       ],
       "shape": {
        "columns": 1,
        "rows": 15
       }
      },
      "text/plain": [
       "Make           0\n",
       "Model          0\n",
       "Type           0\n",
       "Origin         0\n",
       "DriveTrain     0\n",
       "MSRP           0\n",
       "Invoice        0\n",
       "EngineSize     0\n",
       "Cylinders      0\n",
       "Horsepower     0\n",
       "MPG_City       0\n",
       "MPG_Highway    0\n",
       "Weight         0\n",
       "Wheelbase      0\n",
       "Length         0\n",
       "dtype: int64"
      ]
     },
     "execution_count": 8,
     "metadata": {},
     "output_type": "execute_result"
    }
   ],
   "source": [
    "data.isnull().sum()"
   ]
  },
  {
   "cell_type": "markdown",
   "metadata": {},
   "source": [
    "### 2. Explore Car Makes\n",
    "\n",
    "We check all unique car manufacturers (`Make`) in the dataset  \n",
    "and count how many cars of each make are present.  \n",
    "We also visualize the top 10 makes with a bar chart."
   ]
  },
  {
   "cell_type": "code",
   "execution_count": 9,
   "metadata": {},
   "outputs": [
    {
     "name": "stdout",
     "output_type": "stream",
     "text": [
      "Unique Makes ['Acura' 'Audi' 'BMW' 'Buick' 'Cadillac' 'Chevrolet' 'Chrysler' 'Dodge'\n",
      " 'Ford' 'GMC' 'Honda' 'Hummer' 'Hyundai' 'Infiniti' 'Isuzu' 'Jaguar'\n",
      " 'Jeep' 'Kia' 'Land Rover' 'Lexus' 'Lincoln' 'MINI' 'Mazda'\n",
      " 'Mercedes-Benz' 'Mercury' 'Mitsubishi' 'Nissan' 'Oldsmobile' 'Pontiac'\n",
      " 'Porsche' 'Saab' 'Saturn' 'Scion' 'Subaru' 'Suzuki' 'Toyota' 'Volkswagen'\n",
      " 'Volvo']\n",
      "------------------------------------------------------------------\n",
      "Make\n",
      "Toyota           28\n",
      "Chevrolet        27\n",
      "Mercedes-Benz    26\n",
      "Ford             23\n",
      "BMW              20\n",
      "Audi             19\n",
      "Honda            17\n",
      "Nissan           17\n",
      "Volkswagen       15\n",
      "Chrysler         15\n",
      "Name: count, dtype: int64\n"
     ]
    }
   ],
   "source": [
    "print(\"Unique Makes\",data[\"Make\"].unique())\n",
    "\n",
    "print(\"------------------------------------------------------------------\")\n",
    "make_counts = data[\"Make\"].value_counts().head(10)\n",
    "print(make_counts)"
   ]
  },
  {
   "cell_type": "code",
   "execution_count": 10,
   "metadata": {},
   "outputs": [
    {
     "name": "stderr",
     "output_type": "stream",
     "text": [
      "C:\\Users\\bayat\\AppData\\Local\\Temp\\ipykernel_9652\\2197302139.py:4: FutureWarning: \n",
      "\n",
      "Passing `palette` without assigning `hue` is deprecated and will be removed in v0.14.0. Assign the `x` variable to `hue` and set `legend=False` for the same effect.\n",
      "\n",
      "  sns.barplot(x = make.index  , y = make.values, palette=\"viridis\" )\n"
     ]
    },
    {
     "data": {
      "image/png": "[encoded data removed]",
      "text/plain": [
       "<Figure size 1800x1000 with 1 Axes>"
      ]
     },
     "metadata": {},
     "output_type": "display_data"
    }
   ],
   "source": [
    "make=data[\"Make\"].value_counts()\n",
    "plt.figure(figsize=(18,10))\n",
    "\n",
    "sns.barplot(x = make.index  , y = make.values, palette=\"viridis\" )\n",
    "\n",
    "plt.title(\"Top 10 Car Makes in Dataset\")\n",
    "plt.xlabel(\"Make\")\n",
    "plt.ylabel(\"Count\")\n",
    "plt.xticks(rotation=45)\n",
    "plt.show()"
   ]
  },
  {
   "cell_type": "markdown",
   "metadata": {},
   "source": [
    "## 3. Filtering Cars by Origin (Asia & Europe)\n",
    "\n",
    "In this step, we filter the dataset to include only cars whose origin is either **Asia** or **Europe**.  \n",
    "To make the data easier to read, we display only selected columns (`Make`, `Model`, `Type`, `Origin`, `MSRP`).  \n",
    "\n",
    "Additionally, we count the number of cars from each region and visualize the distribution with a bar plot.\n"
   ]
  },
  {
   "cell_type": "code",
   "execution_count": 11,
   "metadata": {},
   "outputs": [
    {
     "data": {
      "application/vnd.microsoft.datawrangler.viewer.v0+json": {
       "columns": [
        {
         "name": "index",
         "rawType": "int64",
         "type": "integer"
        },
        {
         "name": "Make",
         "rawType": "object",
         "type": "string"
        },
        {
         "name": "Model",
         "rawType": "object",
         "type": "string"
        },
        {
         "name": "Type",
         "rawType": "object",
         "type": "string"
        },
        {
         "name": "Origin",
         "rawType": "object",
         "type": "string"
        },
        {
         "name": "DriveTrain",
         "rawType": "object",
         "type": "string"
        },
        {
         "name": "MSRP",
         "rawType": "object",
         "type": "string"
        },
        {
         "name": "Invoice",
         "rawType": "object",
         "type": "string"
        },
        {
         "name": "EngineSize",
         "rawType": "float64",
         "type": "float"
        },
        {
         "name": "Cylinders",
         "rawType": "float64",
         "type": "float"
        },
        {
         "name": "Horsepower",
         "rawType": "int64",
         "type": "integer"
        },
        {
         "name": "MPG_City",
         "rawType": "int64",
         "type": "integer"
        },
        {
         "name": "MPG_Highway",
         "rawType": "int64",
         "type": "integer"
        },
        {
         "name": "Weight",
         "rawType": "int64",
         "type": "integer"
        },
        {
         "name": "Wheelbase",
         "rawType": "int64",
         "type": "integer"
        },
        {
         "name": "Length",
         "rawType": "int64",
         "type": "integer"
        }
       ],
       "ref": "1eff8c8d-4e0b-4bf5-84bd-f47e3903579b",
       "rows": [
        [
         "0",
         "Acura",
         "MDX",
         "SUV",
         "Asia",
         "All",
         "$36,945 ",
         "$33,337 ",
         "3.5",
         "6.0",
         "265",
         "17",
         "23",
         "4451",
         "106",
         "189"
        ],
        [
         "1",
         "Acura",
         "RSX Type S 2dr",
         "Sedan",
         "Asia",
         "Front",
         "$23,820 ",
         "$21,761 ",
         "2.0",
         "4.0",
         "200",
         "24",
         "31",
         "2778",
         "101",
         "172"
        ],
        [
         "2",
         "Acura",
         "TSX 4dr",
         "Sedan",
         "Asia",
         "Front",
         "$26,990 ",
         "$24,647 ",
         "2.4",
         "4.0",
         "200",
         "22",
         "29",
         "3230",
         "105",
         "183"
        ],
        [
         "3",
         "Acura",
         "TL 4dr",
         "Sedan",
         "Asia",
         "Front",
         "$33,195 ",
         "$30,299 ",
         "3.2",
         "6.0",
         "270",
         "20",
         "28",
         "3575",
         "108",
         "186"
        ],
        [
         "4",
         "Acura",
         "3.5 RL 4dr",
         "Sedan",
         "Asia",
         "Front",
         "$43,755 ",
         "$39,014 ",
         "3.5",
         "6.0",
         "225",
         "18",
         "24",
         "3880",
         "115",
         "197"
        ],
        [
         "5",
         "Acura",
         "3.5 RL w/Navigation 4dr",
         "Sedan",
         "Asia",
         "Front",
         "$46,100 ",
         "$41,100 ",
         "3.5",
         "6.0",
         "225",
         "18",
         "24",
         "3893",
         "115",
         "197"
        ],
        [
         "6",
         "Acura",
         "NSX coupe 2dr manual S",
         "Sports",
         "Asia",
         "Rear",
         "$89,765 ",
         "$79,978 ",
         "3.2",
         "6.0",
         "290",
         "17",
         "24",
         "3153",
         "100",
         "174"
        ],
        [
         "7",
         "Audi",
         "A4 1.8T 4dr",
         "Sedan",
         "Europe",
         "Front",
         "$25,940 ",
         "$23,508 ",
         "1.8",
         "4.0",
         "170",
         "22",
         "31",
         "3252",
         "104",
         "179"
        ],
        [
         "8",
         "Audi",
         "A41.8T convertible 2dr",
         "Sedan",
         "Europe",
         "Front",
         "$35,940 ",
         "$32,506 ",
         "1.8",
         "4.0",
         "170",
         "23",
         "30",
         "3638",
         "105",
         "180"
        ],
        [
         "9",
         "Audi",
         "A4 3.0 4dr",
         "Sedan",
         "Europe",
         "Front",
         "$31,840 ",
         "$28,846 ",
         "3.0",
         "6.0",
         "220",
         "20",
         "28",
         "3462",
         "104",
         "179"
        ],
        [
         "10",
         "Audi",
         "A4 3.0 Quattro 4dr manual",
         "Sedan",
         "Europe",
         "All",
         "$33,430 ",
         "$30,366 ",
         "3.0",
         "6.0",
         "220",
         "17",
         "26",
         "3583",
         "104",
         "179"
        ],
        [
         "11",
         "Audi",
         "A4 3.0 Quattro 4dr auto",
         "Sedan",
         "Europe",
         "All",
         "$34,480 ",
         "$31,388 ",
         "3.0",
         "6.0",
         "220",
         "18",
         "25",
         "3627",
         "104",
         "179"
        ],
        [
         "12",
         "Audi",
         "A6 3.0 4dr",
         "Sedan",
         "Europe",
         "Front",
         "$36,640 ",
         "$33,129 ",
         "3.0",
         "6.0",
         "220",
         "20",
         "27",
         "3561",
         "109",
         "192"
        ],
        [
         "13",
         "Audi",
         "A6 3.0 Quattro 4dr",
         "Sedan",
         "Europe",
         "All",
         "$39,640 ",
         "$35,992 ",
         "3.0",
         "6.0",
         "220",
         "18",
         "25",
         "3880",
         "109",
         "192"
        ],
        [
         "14",
         "Audi",
         "A4 3.0 convertible 2dr",
         "Sedan",
         "Europe",
         "Front",
         "$42,490 ",
         "$38,325 ",
         "3.0",
         "6.0",
         "220",
         "20",
         "27",
         "3814",
         "105",
         "180"
        ],
        [
         "15",
         "Audi",
         "A4 3.0 Quattro convertible 2dr",
         "Sedan",
         "Europe",
         "All",
         "$44,240 ",
         "$40,075 ",
         "3.0",
         "6.0",
         "220",
         "18",
         "25",
         "4013",
         "105",
         "180"
        ],
        [
         "16",
         "Audi",
         "A6 2.7 Turbo Quattro 4dr",
         "Sedan",
         "Europe",
         "All",
         "$42,840 ",
         "$38,840 ",
         "2.7",
         "6.0",
         "250",
         "18",
         "25",
         "3836",
         "109",
         "192"
        ],
        [
         "17",
         "Audi",
         "A6 4.2 Quattro 4dr",
         "Sedan",
         "Europe",
         "All",
         "$49,690 ",
         "$44,936 ",
         "4.2",
         "8.0",
         "300",
         "17",
         "24",
         "4024",
         "109",
         "193"
        ],
        [
         "18",
         "Audi",
         "A8 L Quattro 4dr",
         "Sedan",
         "Europe",
         "All",
         "$69,190 ",
         "$64,740 ",
         "4.2",
         "8.0",
         "330",
         "17",
         "24",
         "4399",
         "121",
         "204"
        ],
        [
         "19",
         "Audi",
         "S4 Quattro 4dr",
         "Sedan",
         "Europe",
         "All",
         "$48,040 ",
         "$43,556 ",
         "4.2",
         "8.0",
         "340",
         "14",
         "20",
         "3825",
         "104",
         "179"
        ],
        [
         "20",
         "Audi",
         "RS 6 4dr",
         "Sports",
         "Europe",
         "Front",
         "$84,600 ",
         "$76,417 ",
         "4.2",
         "8.0",
         "450",
         "15",
         "22",
         "4024",
         "109",
         "191"
        ],
        [
         "21",
         "Audi",
         "TT 1.8 convertible 2dr (coupe)",
         "Sports",
         "Europe",
         "Front",
         "$35,940 ",
         "$32,512 ",
         "1.8",
         "4.0",
         "180",
         "20",
         "28",
         "3131",
         "95",
         "159"
        ],
        [
         "22",
         "Audi",
         "TT 1.8 Quattro 2dr (convertible)",
         "Sports",
         "Europe",
         "All",
         "$37,390 ",
         "$33,891 ",
         "1.8",
         "4.0",
         "225",
         "20",
         "28",
         "2921",
         "96",
         "159"
        ],
        [
         "23",
         "Audi",
         "TT 3.2 coupe 2dr (convertible)",
         "Sports",
         "Europe",
         "All",
         "$40,590 ",
         "$36,739 ",
         "3.2",
         "6.0",
         "250",
         "21",
         "29",
         "3351",
         "96",
         "159"
        ],
        [
         "24",
         "Audi",
         "A6 3.0 Avant Quattro",
         "Wagon",
         "Europe",
         "All",
         "$40,840 ",
         "$37,060 ",
         "3.0",
         "6.0",
         "220",
         "18",
         "25",
         "4035",
         "109",
         "192"
        ],
        [
         "25",
         "Audi",
         "S4 Avant Quattro",
         "Wagon",
         "Europe",
         "All",
         "$49,090 ",
         "$44,446 ",
         "4.2",
         "8.0",
         "340",
         "15",
         "21",
         "3936",
         "104",
         "179"
        ],
        [
         "26",
         "BMW",
         "X3 3.0i",
         "SUV",
         "Europe",
         "All",
         "$37,000 ",
         "$33,873 ",
         "3.0",
         "6.0",
         "225",
         "16",
         "23",
         "4023",
         "110",
         "180"
        ],
        [
         "27",
         "BMW",
         "X5 4.4i",
         "SUV",
         "Europe",
         "All",
         "$52,195 ",
         "$47,720 ",
         "4.4",
         "8.0",
         "325",
         "16",
         "22",
         "4824",
         "111",
         "184"
        ],
        [
         "28",
         "BMW",
         "325i 4dr",
         "Sedan",
         "Europe",
         "Rear",
         "$28,495 ",
         "$26,155 ",
         "2.5",
         "6.0",
         "184",
         "20",
         "29",
         "3219",
         "107",
         "176"
        ],
        [
         "29",
         "BMW",
         "325Ci 2dr",
         "Sedan",
         "Europe",
         "Rear",
         "$30,795 ",
         "$28,245 ",
         "2.5",
         "6.0",
         "184",
         "20",
         "29",
         "3197",
         "107",
         "177"
        ],
        [
         "30",
         "BMW",
         "325Ci convertible 2dr",
         "Sedan",
         "Europe",
         "Rear",
         "$37,995 ",
         "$34,800 ",
         "2.5",
         "6.0",
         "184",
         "19",
         "27",
         "3560",
         "107",
         "177"
        ],
        [
         "31",
         "BMW",
         "325xi 4dr",
         "Sedan",
         "Europe",
         "All",
         "$30,245 ",
         "$27,745 ",
         "2.5",
         "6.0",
         "184",
         "19",
         "27",
         "3461",
         "107",
         "176"
        ],
        [
         "32",
         "BMW",
         "330i 4dr",
         "Sedan",
         "Europe",
         "Rear",
         "$35,495 ",
         "$32,525 ",
         "3.0",
         "6.0",
         "225",
         "20",
         "30",
         "3285",
         "107",
         "176"
        ],
        [
         "33",
         "BMW",
         "330Ci 2dr",
         "Sedan",
         "Europe",
         "Rear",
         "$36,995 ",
         "$33,890 ",
         "3.0",
         "6.0",
         "225",
         "20",
         "30",
         "3285",
         "107",
         "176"
        ],
        [
         "34",
         "BMW",
         "330xi 4dr",
         "Sedan",
         "Europe",
         "All",
         "$37,245 ",
         "$34,115 ",
         "3.0",
         "6.0",
         "225",
         "20",
         "29",
         "3483",
         "107",
         "176"
        ],
        [
         "35",
         "BMW",
         "525i 4dr",
         "Sedan",
         "Europe",
         "Rear",
         "$39,995 ",
         "$36,620 ",
         "2.5",
         "6.0",
         "184",
         "19",
         "28",
         "3428",
         "114",
         "191"
        ],
        [
         "36",
         "BMW",
         "330Ci convertible 2dr",
         "Sedan",
         "Europe",
         "Rear",
         "$44,295 ",
         "$40,530 ",
         "3.0",
         "6.0",
         "225",
         "19",
         "28",
         "3616",
         "107",
         "177"
        ],
        [
         "37",
         "BMW",
         "530i 4dr",
         "Sedan",
         "Europe",
         "Rear",
         "$44,995 ",
         "$41,170 ",
         "3.0",
         "6.0",
         "225",
         "20",
         "30",
         "3472",
         "114",
         "191"
        ],
        [
         "38",
         "BMW",
         "545iA 4dr",
         "Sedan",
         "Europe",
         "Rear",
         "$54,995 ",
         "$50,270 ",
         "4.4",
         "8.0",
         "325",
         "18",
         "26",
         "3814",
         "114",
         "191"
        ],
        [
         "39",
         "BMW",
         "745i 4dr",
         "Sedan",
         "Europe",
         "Rear",
         "$69,195 ",
         "$63,190 ",
         "4.4",
         "8.0",
         "325",
         "18",
         "26",
         "4376",
         "118",
         "198"
        ],
        [
         "40",
         "BMW",
         "745Li 4dr",
         "Sedan",
         "Europe",
         "Rear",
         "$73,195 ",
         "$66,830 ",
         "4.4",
         "8.0",
         "325",
         "18",
         "26",
         "4464",
         "123",
         "204"
        ],
        [
         "41",
         "BMW",
         "M3 coupe 2dr",
         "Sports",
         "Europe",
         "Rear",
         "$48,195 ",
         "$44,170 ",
         "3.2",
         "6.0",
         "333",
         "16",
         "24",
         "3415",
         "108",
         "177"
        ],
        [
         "42",
         "BMW",
         "M3 convertible 2dr",
         "Sports",
         "Europe",
         "Rear",
         "$56,595 ",
         "$51,815 ",
         "3.2",
         "6.0",
         "333",
         "16",
         "23",
         "3781",
         "108",
         "177"
        ],
        [
         "43",
         "BMW",
         "Z4 convertible 2.5i 2dr",
         "Sports",
         "Europe",
         "Rear",
         "$33,895 ",
         "$31,065 ",
         "2.5",
         "6.0",
         "184",
         "20",
         "28",
         "2932",
         "98",
         "161"
        ],
        [
         "44",
         "BMW",
         "Z4 convertible 3.0i 2dr",
         "Sports",
         "Europe",
         "Rear",
         "$41,045 ",
         "$37,575 ",
         "3.0",
         "6.0",
         "225",
         "21",
         "29",
         "2998",
         "98",
         "161"
        ],
        [
         "45",
         "BMW",
         "325xi Sport",
         "Wagon",
         "Europe",
         "All",
         "$32,845 ",
         "$30,110 ",
         "2.5",
         "6.0",
         "184",
         "19",
         "26",
         "3594",
         "107",
         "176"
        ],
        [
         "149",
         "Honda",
         "Civic Hybrid 4dr manual (gas/electric)",
         "Hybrid",
         "Asia",
         "Front",
         "$20,140 ",
         "$18,451 ",
         "1.4",
         "4.0",
         "93",
         "46",
         "51",
         "2732",
         "103",
         "175"
        ],
        [
         "150",
         "Honda",
         "Insight 2dr (gas/electric)",
         "Hybrid",
         "Asia",
         "Front",
         "$19,110 ",
         "$17,911 ",
         "2.0",
         "3.0",
         "73",
         "60",
         "66",
         "1850",
         "95",
         "155"
        ],
        [
         "151",
         "Honda",
         "Pilot LX",
         "SUV",
         "Asia",
         "All",
         "$27,560 ",
         "$24,843 ",
         "3.5",
         "6.0",
         "240",
         "17",
         "22",
         "4387",
         "106",
         "188"
        ],
        [
         "152",
         "Honda",
         "CR-V LX",
         "SUV",
         "Asia",
         "All",
         "$19,860 ",
         "$18,419 ",
         "2.4",
         "4.0",
         "160",
         "21",
         "25",
         "3258",
         "103",
         "179"
        ]
       ],
       "shape": {
        "columns": 15,
        "rows": 281
       }
      },
      "text/html": [
       "<div>\n",
       "<style scoped>\n",
       "    .dataframe tbody tr th:only-of-type {\n",
       "        vertical-align: middle;\n",
       "    }\n",
       "\n",
       "    .dataframe tbody tr th {\n",
       "        vertical-align: top;\n",
       "    }\n",
       "\n",
       "    .dataframe thead th {\n",
       "        text-align: right;\n",
       "    }\n",
       "</style>\n",
       "<table border=\"1\" class=\"dataframe\">\n",
       "  <thead>\n",
       "    <tr style=\"text-align: right;\">\n",
       "      <th></th>\n",
       "      <th>Make</th>\n",
       "      <th>Model</th>\n",
       "      <th>Type</th>\n",
       "      <th>Origin</th>\n",
       "      <th>DriveTrain</th>\n",
       "      <th>MSRP</th>\n",
       "      <th>Invoice</th>\n",
       "      <th>EngineSize</th>\n",
       "      <th>Cylinders</th>\n",
       "      <th>Horsepower</th>\n",
       "      <th>MPG_City</th>\n",
       "      <th>MPG_Highway</th>\n",
       "      <th>Weight</th>\n",
       "      <th>Wheelbase</th>\n",
       "      <th>Length</th>\n",
       "    </tr>\n",
       "  </thead>\n",
       "  <tbody>\n",
       "    <tr>\n",
       "      <th>0</th>\n",
       "      <td>Acura</td>\n",
       "      <td>MDX</td>\n",
       "      <td>SUV</td>\n",
       "      <td>Asia</td>\n",
       "      <td>All</td>\n",
       "      <td>$36,945</td>\n",
       "      <td>$33,337</td>\n",
       "      <td>3.5</td>\n",
       "      <td>6.0</td>\n",
       "      <td>265</td>\n",
       "      <td>17</td>\n",
       "      <td>23</td>\n",
       "      <td>4451</td>\n",
       "      <td>106</td>\n",
       "      <td>189</td>\n",
       "    </tr>\n",
       "    <tr>\n",
       "      <th>1</th>\n",
       "      <td>Acura</td>\n",
       "      <td>RSX Type S 2dr</td>\n",
       "      <td>Sedan</td>\n",
       "      <td>Asia</td>\n",
       "      <td>Front</td>\n",
       "      <td>$23,820</td>\n",
       "      <td>$21,761</td>\n",
       "      <td>2.0</td>\n",
       "      <td>4.0</td>\n",
       "      <td>200</td>\n",
       "      <td>24</td>\n",
       "      <td>31</td>\n",
       "      <td>2778</td>\n",
       "      <td>101</td>\n",
       "      <td>172</td>\n",
       "    </tr>\n",
       "    <tr>\n",
       "      <th>2</th>\n",
       "      <td>Acura</td>\n",
       "      <td>TSX 4dr</td>\n",
       "      <td>Sedan</td>\n",
       "      <td>Asia</td>\n",
       "      <td>Front</td>\n",
       "      <td>$26,990</td>\n",
       "      <td>$24,647</td>\n",
       "      <td>2.4</td>\n",
       "      <td>4.0</td>\n",
       "      <td>200</td>\n",
       "      <td>22</td>\n",
       "      <td>29</td>\n",
       "      <td>3230</td>\n",
       "      <td>105</td>\n",
       "      <td>183</td>\n",
       "    </tr>\n",
       "    <tr>\n",
       "      <th>3</th>\n",
       "      <td>Acura</td>\n",
       "      <td>TL 4dr</td>\n",
       "      <td>Sedan</td>\n",
       "      <td>Asia</td>\n",
       "      <td>Front</td>\n",
       "      <td>$33,195</td>\n",
       "      <td>$30,299</td>\n",
       "      <td>3.2</td>\n",
       "      <td>6.0</td>\n",
       "      <td>270</td>\n",
       "      <td>20</td>\n",
       "      <td>28</td>\n",
       "      <td>3575</td>\n",
       "      <td>108</td>\n",
       "      <td>186</td>\n",
       "    </tr>\n",
       "    <tr>\n",
       "      <th>4</th>\n",
       "      <td>Acura</td>\n",
       "      <td>3.5 RL 4dr</td>\n",
       "      <td>Sedan</td>\n",
       "      <td>Asia</td>\n",
       "      <td>Front</td>\n",
       "      <td>$43,755</td>\n",
       "      <td>$39,014</td>\n",
       "      <td>3.5</td>\n",
       "      <td>6.0</td>\n",
       "      <td>225</td>\n",
       "      <td>18</td>\n",
       "      <td>24</td>\n",
       "      <td>3880</td>\n",
       "      <td>115</td>\n",
       "      <td>197</td>\n",
       "    </tr>\n",
       "    <tr>\n",
       "      <th>...</th>\n",
       "      <td>...</td>\n",
       "      <td>...</td>\n",
       "      <td>...</td>\n",
       "      <td>...</td>\n",
       "      <td>...</td>\n",
       "      <td>...</td>\n",
       "      <td>...</td>\n",
       "      <td>...</td>\n",
       "      <td>...</td>\n",
       "      <td>...</td>\n",
       "      <td>...</td>\n",
       "      <td>...</td>\n",
       "      <td>...</td>\n",
       "      <td>...</td>\n",
       "      <td>...</td>\n",
       "    </tr>\n",
       "    <tr>\n",
       "      <th>423</th>\n",
       "      <td>Volvo</td>\n",
       "      <td>C70 LPT convertible 2dr</td>\n",
       "      <td>Sedan</td>\n",
       "      <td>Europe</td>\n",
       "      <td>Front</td>\n",
       "      <td>$40,565</td>\n",
       "      <td>$38,203</td>\n",
       "      <td>2.4</td>\n",
       "      <td>5.0</td>\n",
       "      <td>197</td>\n",
       "      <td>21</td>\n",
       "      <td>28</td>\n",
       "      <td>3450</td>\n",
       "      <td>105</td>\n",
       "      <td>186</td>\n",
       "    </tr>\n",
       "    <tr>\n",
       "      <th>424</th>\n",
       "      <td>Volvo</td>\n",
       "      <td>C70 HPT convertible 2dr</td>\n",
       "      <td>Sedan</td>\n",
       "      <td>Europe</td>\n",
       "      <td>Front</td>\n",
       "      <td>$42,565</td>\n",
       "      <td>$40,083</td>\n",
       "      <td>2.3</td>\n",
       "      <td>5.0</td>\n",
       "      <td>242</td>\n",
       "      <td>20</td>\n",
       "      <td>26</td>\n",
       "      <td>3450</td>\n",
       "      <td>105</td>\n",
       "      <td>186</td>\n",
       "    </tr>\n",
       "    <tr>\n",
       "      <th>425</th>\n",
       "      <td>Volvo</td>\n",
       "      <td>S80 T6 4dr</td>\n",
       "      <td>Sedan</td>\n",
       "      <td>Europe</td>\n",
       "      <td>Front</td>\n",
       "      <td>$45,210</td>\n",
       "      <td>$42,573</td>\n",
       "      <td>2.9</td>\n",
       "      <td>6.0</td>\n",
       "      <td>268</td>\n",
       "      <td>19</td>\n",
       "      <td>26</td>\n",
       "      <td>3653</td>\n",
       "      <td>110</td>\n",
       "      <td>190</td>\n",
       "    </tr>\n",
       "    <tr>\n",
       "      <th>426</th>\n",
       "      <td>Volvo</td>\n",
       "      <td>V40</td>\n",
       "      <td>Wagon</td>\n",
       "      <td>Europe</td>\n",
       "      <td>Front</td>\n",
       "      <td>$26,135</td>\n",
       "      <td>$24,641</td>\n",
       "      <td>1.9</td>\n",
       "      <td>4.0</td>\n",
       "      <td>170</td>\n",
       "      <td>22</td>\n",
       "      <td>29</td>\n",
       "      <td>2822</td>\n",
       "      <td>101</td>\n",
       "      <td>180</td>\n",
       "    </tr>\n",
       "    <tr>\n",
       "      <th>427</th>\n",
       "      <td>Volvo</td>\n",
       "      <td>XC70</td>\n",
       "      <td>Wagon</td>\n",
       "      <td>Europe</td>\n",
       "      <td>All</td>\n",
       "      <td>$35,145</td>\n",
       "      <td>$33,112</td>\n",
       "      <td>2.5</td>\n",
       "      <td>5.0</td>\n",
       "      <td>208</td>\n",
       "      <td>20</td>\n",
       "      <td>27</td>\n",
       "      <td>3823</td>\n",
       "      <td>109</td>\n",
       "      <td>186</td>\n",
       "    </tr>\n",
       "  </tbody>\n",
       "</table>\n",
       "<p>281 rows × 15 columns</p>\n",
       "</div>"
      ],
      "text/plain": [
       "      Make                    Model   Type  Origin DriveTrain      MSRP  \\\n",
       "0    Acura                      MDX    SUV    Asia        All  $36,945    \n",
       "1    Acura           RSX Type S 2dr  Sedan    Asia      Front  $23,820    \n",
       "2    Acura                  TSX 4dr  Sedan    Asia      Front  $26,990    \n",
       "3    Acura                   TL 4dr  Sedan    Asia      Front  $33,195    \n",
       "4    Acura               3.5 RL 4dr  Sedan    Asia      Front  $43,755    \n",
       "..     ...                      ...    ...     ...        ...       ...   \n",
       "423  Volvo  C70 LPT convertible 2dr  Sedan  Europe      Front  $40,565    \n",
       "424  Volvo  C70 HPT convertible 2dr  Sedan  Europe      Front  $42,565    \n",
       "425  Volvo               S80 T6 4dr  Sedan  Europe      Front  $45,210    \n",
       "426  Volvo                      V40  Wagon  Europe      Front  $26,135    \n",
       "427  Volvo                     XC70  Wagon  Europe        All  $35,145    \n",
       "\n",
       "      Invoice  EngineSize  Cylinders  Horsepower  MPG_City  MPG_Highway  \\\n",
       "0    $33,337          3.5        6.0         265        17           23   \n",
       "1    $21,761          2.0        4.0         200        24           31   \n",
       "2    $24,647          2.4        4.0         200        22           29   \n",
       "3    $30,299          3.2        6.0         270        20           28   \n",
       "4    $39,014          3.5        6.0         225        18           24   \n",
       "..        ...         ...        ...         ...       ...          ...   \n",
       "423  $38,203          2.4        5.0         197        21           28   \n",
       "424  $40,083          2.3        5.0         242        20           26   \n",
       "425  $42,573          2.9        6.0         268        19           26   \n",
       "426  $24,641          1.9        4.0         170        22           29   \n",
       "427  $33,112          2.5        5.0         208        20           27   \n",
       "\n",
       "     Weight  Wheelbase  Length  \n",
       "0      4451        106     189  \n",
       "1      2778        101     172  \n",
       "2      3230        105     183  \n",
       "3      3575        108     186  \n",
       "4      3880        115     197  \n",
       "..      ...        ...     ...  \n",
       "423    3450        105     186  \n",
       "424    3450        105     186  \n",
       "425    3653        110     190  \n",
       "426    2822        101     180  \n",
       "427    3823        109     186  \n",
       "\n",
       "[281 rows x 15 columns]"
      ]
     },
     "execution_count": 11,
     "metadata": {},
     "output_type": "execute_result"
    }
   ],
   "source": [
    "asia_europe_cars = data[data[\"Origin\"].isin([\"Asia\", \"Europe\"])]\n",
    "asia_europe_cars\n"
   ]
  },
  {
   "cell_type": "code",
   "execution_count": 12,
   "metadata": {},
   "outputs": [
    {
     "data": {
      "application/vnd.microsoft.datawrangler.viewer.v0+json": {
       "columns": [
        {
         "name": "index",
         "rawType": "int64",
         "type": "integer"
        },
        {
         "name": "Make",
         "rawType": "object",
         "type": "string"
        },
        {
         "name": "Model",
         "rawType": "object",
         "type": "string"
        },
        {
         "name": "Type",
         "rawType": "object",
         "type": "string"
        },
        {
         "name": "Origin",
         "rawType": "object",
         "type": "string"
        },
        {
         "name": "MSRP",
         "rawType": "object",
         "type": "string"
        }
       ],
       "ref": "c32da958-1db1-4f8e-84ef-26b9470b836a",
       "rows": [
        [
         "0",
         "Acura",
         "MDX",
         "SUV",
         "Asia",
         "$36,945 "
        ],
        [
         "1",
         "Acura",
         "RSX Type S 2dr",
         "Sedan",
         "Asia",
         "$23,820 "
        ],
        [
         "2",
         "Acura",
         "TSX 4dr",
         "Sedan",
         "Asia",
         "$26,990 "
        ],
        [
         "3",
         "Acura",
         "TL 4dr",
         "Sedan",
         "Asia",
         "$33,195 "
        ],
        [
         "4",
         "Acura",
         "3.5 RL 4dr",
         "Sedan",
         "Asia",
         "$43,755 "
        ],
        [
         "5",
         "Acura",
         "3.5 RL w/Navigation 4dr",
         "Sedan",
         "Asia",
         "$46,100 "
        ],
        [
         "6",
         "Acura",
         "NSX coupe 2dr manual S",
         "Sports",
         "Asia",
         "$89,765 "
        ],
        [
         "7",
         "Audi",
         "A4 1.8T 4dr",
         "Sedan",
         "Europe",
         "$25,940 "
        ],
        [
         "8",
         "Audi",
         "A41.8T convertible 2dr",
         "Sedan",
         "Europe",
         "$35,940 "
        ],
        [
         "9",
         "Audi",
         "A4 3.0 4dr",
         "Sedan",
         "Europe",
         "$31,840 "
        ],
        [
         "10",
         "Audi",
         "A4 3.0 Quattro 4dr manual",
         "Sedan",
         "Europe",
         "$33,430 "
        ],
        [
         "11",
         "Audi",
         "A4 3.0 Quattro 4dr auto",
         "Sedan",
         "Europe",
         "$34,480 "
        ],
        [
         "12",
         "Audi",
         "A6 3.0 4dr",
         "Sedan",
         "Europe",
         "$36,640 "
        ],
        [
         "13",
         "Audi",
         "A6 3.0 Quattro 4dr",
         "Sedan",
         "Europe",
         "$39,640 "
        ],
        [
         "14",
         "Audi",
         "A4 3.0 convertible 2dr",
         "Sedan",
         "Europe",
         "$42,490 "
        ],
        [
         "15",
         "Audi",
         "A4 3.0 Quattro convertible 2dr",
         "Sedan",
         "Europe",
         "$44,240 "
        ],
        [
         "16",
         "Audi",
         "A6 2.7 Turbo Quattro 4dr",
         "Sedan",
         "Europe",
         "$42,840 "
        ],
        [
         "17",
         "Audi",
         "A6 4.2 Quattro 4dr",
         "Sedan",
         "Europe",
         "$49,690 "
        ],
        [
         "18",
         "Audi",
         "A8 L Quattro 4dr",
         "Sedan",
         "Europe",
         "$69,190 "
        ],
        [
         "19",
         "Audi",
         "S4 Quattro 4dr",
         "Sedan",
         "Europe",
         "$48,040 "
        ],
        [
         "20",
         "Audi",
         "RS 6 4dr",
         "Sports",
         "Europe",
         "$84,600 "
        ],
        [
         "21",
         "Audi",
         "TT 1.8 convertible 2dr (coupe)",
         "Sports",
         "Europe",
         "$35,940 "
        ],
        [
         "22",
         "Audi",
         "TT 1.8 Quattro 2dr (convertible)",
         "Sports",
         "Europe",
         "$37,390 "
        ],
        [
         "23",
         "Audi",
         "TT 3.2 coupe 2dr (convertible)",
         "Sports",
         "Europe",
         "$40,590 "
        ],
        [
         "24",
         "Audi",
         "A6 3.0 Avant Quattro",
         "Wagon",
         "Europe",
         "$40,840 "
        ],
        [
         "25",
         "Audi",
         "S4 Avant Quattro",
         "Wagon",
         "Europe",
         "$49,090 "
        ],
        [
         "26",
         "BMW",
         "X3 3.0i",
         "SUV",
         "Europe",
         "$37,000 "
        ],
        [
         "27",
         "BMW",
         "X5 4.4i",
         "SUV",
         "Europe",
         "$52,195 "
        ],
        [
         "28",
         "BMW",
         "325i 4dr",
         "Sedan",
         "Europe",
         "$28,495 "
        ],
        [
         "29",
         "BMW",
         "325Ci 2dr",
         "Sedan",
         "Europe",
         "$30,795 "
        ],
        [
         "30",
         "BMW",
         "325Ci convertible 2dr",
         "Sedan",
         "Europe",
         "$37,995 "
        ],
        [
         "31",
         "BMW",
         "325xi 4dr",
         "Sedan",
         "Europe",
         "$30,245 "
        ],
        [
         "32",
         "BMW",
         "330i 4dr",
         "Sedan",
         "Europe",
         "$35,495 "
        ],
        [
         "33",
         "BMW",
         "330Ci 2dr",
         "Sedan",
         "Europe",
         "$36,995 "
        ],
        [
         "34",
         "BMW",
         "330xi 4dr",
         "Sedan",
         "Europe",
         "$37,245 "
        ],
        [
         "35",
         "BMW",
         "525i 4dr",
         "Sedan",
         "Europe",
         "$39,995 "
        ],
        [
         "36",
         "BMW",
         "330Ci convertible 2dr",
         "Sedan",
         "Europe",
         "$44,295 "
        ],
        [
         "37",
         "BMW",
         "530i 4dr",
         "Sedan",
         "Europe",
         "$44,995 "
        ],
        [
         "38",
         "BMW",
         "545iA 4dr",
         "Sedan",
         "Europe",
         "$54,995 "
        ],
        [
         "39",
         "BMW",
         "745i 4dr",
         "Sedan",
         "Europe",
         "$69,195 "
        ],
        [
         "40",
         "BMW",
         "745Li 4dr",
         "Sedan",
         "Europe",
         "$73,195 "
        ],
        [
         "41",
         "BMW",
         "M3 coupe 2dr",
         "Sports",
         "Europe",
         "$48,195 "
        ],
        [
         "42",
         "BMW",
         "M3 convertible 2dr",
         "Sports",
         "Europe",
         "$56,595 "
        ],
        [
         "43",
         "BMW",
         "Z4 convertible 2.5i 2dr",
         "Sports",
         "Europe",
         "$33,895 "
        ],
        [
         "44",
         "BMW",
         "Z4 convertible 3.0i 2dr",
         "Sports",
         "Europe",
         "$41,045 "
        ],
        [
         "45",
         "BMW",
         "325xi Sport",
         "Wagon",
         "Europe",
         "$32,845 "
        ],
        [
         "149",
         "Honda",
         "Civic Hybrid 4dr manual (gas/electric)",
         "Hybrid",
         "Asia",
         "$20,140 "
        ],
        [
         "150",
         "Honda",
         "Insight 2dr (gas/electric)",
         "Hybrid",
         "Asia",
         "$19,110 "
        ],
        [
         "151",
         "Honda",
         "Pilot LX",
         "SUV",
         "Asia",
         "$27,560 "
        ],
        [
         "152",
         "Honda",
         "CR-V LX",
         "SUV",
         "Asia",
         "$19,860 "
        ]
       ],
       "shape": {
        "columns": 5,
        "rows": 281
       }
      },
      "text/html": [
       "<div>\n",
       "<style scoped>\n",
       "    .dataframe tbody tr th:only-of-type {\n",
       "        vertical-align: middle;\n",
       "    }\n",
       "\n",
       "    .dataframe tbody tr th {\n",
       "        vertical-align: top;\n",
       "    }\n",
       "\n",
       "    .dataframe thead th {\n",
       "        text-align: right;\n",
       "    }\n",
       "</style>\n",
       "<table border=\"1\" class=\"dataframe\">\n",
       "  <thead>\n",
       "    <tr style=\"text-align: right;\">\n",
       "      <th></th>\n",
       "      <th>Make</th>\n",
       "      <th>Model</th>\n",
       "      <th>Type</th>\n",
       "      <th>Origin</th>\n",
       "      <th>MSRP</th>\n",
       "    </tr>\n",
       "  </thead>\n",
       "  <tbody>\n",
       "    <tr>\n",
       "      <th>0</th>\n",
       "      <td>Acura</td>\n",
       "      <td>MDX</td>\n",
       "      <td>SUV</td>\n",
       "      <td>Asia</td>\n",
       "      <td>$36,945</td>\n",
       "    </tr>\n",
       "    <tr>\n",
       "      <th>1</th>\n",
       "      <td>Acura</td>\n",
       "      <td>RSX Type S 2dr</td>\n",
       "      <td>Sedan</td>\n",
       "      <td>Asia</td>\n",
       "      <td>$23,820</td>\n",
       "    </tr>\n",
       "    <tr>\n",
       "      <th>2</th>\n",
       "      <td>Acura</td>\n",
       "      <td>TSX 4dr</td>\n",
       "      <td>Sedan</td>\n",
       "      <td>Asia</td>\n",
       "      <td>$26,990</td>\n",
       "    </tr>\n",
       "    <tr>\n",
       "      <th>3</th>\n",
       "      <td>Acura</td>\n",
       "      <td>TL 4dr</td>\n",
       "      <td>Sedan</td>\n",
       "      <td>Asia</td>\n",
       "      <td>$33,195</td>\n",
       "    </tr>\n",
       "    <tr>\n",
       "      <th>4</th>\n",
       "      <td>Acura</td>\n",
       "      <td>3.5 RL 4dr</td>\n",
       "      <td>Sedan</td>\n",
       "      <td>Asia</td>\n",
       "      <td>$43,755</td>\n",
       "    </tr>\n",
       "    <tr>\n",
       "      <th>...</th>\n",
       "      <td>...</td>\n",
       "      <td>...</td>\n",
       "      <td>...</td>\n",
       "      <td>...</td>\n",
       "      <td>...</td>\n",
       "    </tr>\n",
       "    <tr>\n",
       "      <th>423</th>\n",
       "      <td>Volvo</td>\n",
       "      <td>C70 LPT convertible 2dr</td>\n",
       "      <td>Sedan</td>\n",
       "      <td>Europe</td>\n",
       "      <td>$40,565</td>\n",
       "    </tr>\n",
       "    <tr>\n",
       "      <th>424</th>\n",
       "      <td>Volvo</td>\n",
       "      <td>C70 HPT convertible 2dr</td>\n",
       "      <td>Sedan</td>\n",
       "      <td>Europe</td>\n",
       "      <td>$42,565</td>\n",
       "    </tr>\n",
       "    <tr>\n",
       "      <th>425</th>\n",
       "      <td>Volvo</td>\n",
       "      <td>S80 T6 4dr</td>\n",
       "      <td>Sedan</td>\n",
       "      <td>Europe</td>\n",
       "      <td>$45,210</td>\n",
       "    </tr>\n",
       "    <tr>\n",
       "      <th>426</th>\n",
       "      <td>Volvo</td>\n",
       "      <td>V40</td>\n",
       "      <td>Wagon</td>\n",
       "      <td>Europe</td>\n",
       "      <td>$26,135</td>\n",
       "    </tr>\n",
       "    <tr>\n",
       "      <th>427</th>\n",
       "      <td>Volvo</td>\n",
       "      <td>XC70</td>\n",
       "      <td>Wagon</td>\n",
       "      <td>Europe</td>\n",
       "      <td>$35,145</td>\n",
       "    </tr>\n",
       "  </tbody>\n",
       "</table>\n",
       "<p>281 rows × 5 columns</p>\n",
       "</div>"
      ],
      "text/plain": [
       "      Make                    Model   Type  Origin      MSRP\n",
       "0    Acura                      MDX    SUV    Asia  $36,945 \n",
       "1    Acura           RSX Type S 2dr  Sedan    Asia  $23,820 \n",
       "2    Acura                  TSX 4dr  Sedan    Asia  $26,990 \n",
       "3    Acura                   TL 4dr  Sedan    Asia  $33,195 \n",
       "4    Acura               3.5 RL 4dr  Sedan    Asia  $43,755 \n",
       "..     ...                      ...    ...     ...       ...\n",
       "423  Volvo  C70 LPT convertible 2dr  Sedan  Europe  $40,565 \n",
       "424  Volvo  C70 HPT convertible 2dr  Sedan  Europe  $42,565 \n",
       "425  Volvo               S80 T6 4dr  Sedan  Europe  $45,210 \n",
       "426  Volvo                      V40  Wagon  Europe  $26,135 \n",
       "427  Volvo                     XC70  Wagon  Europe  $35,145 \n",
       "\n",
       "[281 rows x 5 columns]"
      ]
     },
     "execution_count": 12,
     "metadata": {},
     "output_type": "execute_result"
    }
   ],
   "source": [
    "asia_europe_cars[[\"Make\",\"Model\",\"Type\",\"Origin\",\"MSRP\"]]"
   ]
  },
  {
   "cell_type": "code",
   "execution_count": 13,
   "metadata": {},
   "outputs": [
    {
     "data": {
      "application/vnd.microsoft.datawrangler.viewer.v0+json": {
       "columns": [
        {
         "name": "Origin",
         "rawType": "object",
         "type": "string"
        },
        {
         "name": "count",
         "rawType": "int64",
         "type": "integer"
        }
       ],
       "ref": "1501cd5a-c101-46a9-a8b5-340bad3c44b3",
       "rows": [
        [
         "Asia",
         "158"
        ],
        [
         "Europe",
         "123"
        ]
       ],
       "shape": {
        "columns": 1,
        "rows": 2
       }
      },
      "text/plain": [
       "Origin\n",
       "Asia      158\n",
       "Europe    123\n",
       "Name: count, dtype: int64"
      ]
     },
     "execution_count": 13,
     "metadata": {},
     "output_type": "execute_result"
    }
   ],
   "source": [
    "asia_europe_counts = asia_europe_cars[\"Origin\"].value_counts()\n",
    "asia_europe_counts"
   ]
  },
  {
   "cell_type": "code",
   "execution_count": 14,
   "metadata": {},
   "outputs": [
    {
     "name": "stderr",
     "output_type": "stream",
     "text": [
      "C:\\Users\\bayat\\AppData\\Local\\Temp\\ipykernel_9652\\3002935551.py:2: FutureWarning: \n",
      "\n",
      "Passing `palette` without assigning `hue` is deprecated and will be removed in v0.14.0. Assign the `x` variable to `hue` and set `legend=False` for the same effect.\n",
      "\n",
      "  sns.barplot(x=asia_europe_counts.index , y = asia_europe_counts.values,\n"
     ]
    },
    {
     "data": {
      "image/png": "[encoded data removed]",
      "text/plain": [
       "<Figure size 1000x800 with 1 Axes>"
      ]
     },
     "metadata": {},
     "output_type": "display_data"
    }
   ],
   "source": [
    "plt.figure(figsize=(10,8))\n",
    "sns.barplot(x=asia_europe_counts.index , y = asia_europe_counts.values,\n",
    "            palette =\"Set2\" , width = 0.6)\n",
    "plt.title(\"Number of Cars by Origin (Asia & Europe)\")\n",
    "plt.ylabel(\"Count\")\n",
    "plt.show()"
   ]
  },
  {
   "cell_type": "markdown",
   "metadata": {},
   "source": [
    "## 4. Removing Heavy Cars (Weight > 4000)"
   ]
  },
  {
   "cell_type": "code",
   "execution_count": null,
   "metadata": {},
   "outputs": [
    {
     "name": "stdout",
     "output_type": "stream",
     "text": [
      "Index([  0,  15,  17,  18,  20,  24,  26,  27,  39,  40,\n",
      "       ...\n",
      "       375, 377, 393, 394, 399, 401, 411, 412, 415, 416],\n",
      "      dtype='int64', length=103)\n"
     ]
    },
    {
     "data": {
      "application/vnd.microsoft.datawrangler.viewer.v0+json": {
       "columns": [
        {
         "name": "index",
         "rawType": "int64",
         "type": "integer"
        },
        {
         "name": "Weight",
         "rawType": "int64",
         "type": "integer"
        }
       ],
       "ref": "19c313ed-70f4-46fe-b433-24b7cc7fb35f",
       "rows": [
        [
         "1",
         "2778"
        ],
        [
         "2",
         "3230"
        ],
        [
         "3",
         "3575"
        ],
        [
         "4",
         "3880"
        ],
        [
         "5",
         "3893"
        ],
        [
         "6",
         "3153"
        ],
        [
         "7",
         "3252"
        ],
        [
         "8",
         "3638"
        ],
        [
         "9",
         "3462"
        ],
        [
         "10",
         "3583"
        ],
        [
         "11",
         "3627"
        ],
        [
         "12",
         "3561"
        ],
        [
         "13",
         "3880"
        ],
        [
         "14",
         "3814"
        ],
        [
         "16",
         "3836"
        ],
        [
         "19",
         "3825"
        ],
        [
         "21",
         "3131"
        ],
        [
         "22",
         "2921"
        ],
        [
         "23",
         "3351"
        ],
        [
         "25",
         "3936"
        ],
        [
         "28",
         "3219"
        ],
        [
         "29",
         "3197"
        ],
        [
         "30",
         "3560"
        ],
        [
         "31",
         "3461"
        ],
        [
         "32",
         "3285"
        ],
        [
         "33",
         "3285"
        ],
        [
         "34",
         "3483"
        ],
        [
         "35",
         "3428"
        ],
        [
         "36",
         "3616"
        ],
        [
         "37",
         "3472"
        ],
        [
         "38",
         "3814"
        ],
        [
         "41",
         "3415"
        ],
        [
         "42",
         "3781"
        ],
        [
         "43",
         "2932"
        ],
        [
         "44",
         "2998"
        ],
        [
         "45",
         "3594"
        ],
        [
         "48",
         "3353"
        ],
        [
         "49",
         "3567"
        ],
        [
         "50",
         "3461"
        ],
        [
         "51",
         "3536"
        ],
        [
         "52",
         "3591"
        ],
        [
         "53",
         "3778"
        ],
        [
         "54",
         "3909"
        ],
        [
         "57",
         "3694"
        ],
        [
         "58",
         "3984"
        ],
        [
         "60",
         "3992"
        ],
        [
         "61",
         "3647"
        ],
        [
         "66",
         "2866"
        ],
        [
         "67",
         "2370"
        ],
        [
         "68",
         "2348"
        ]
       ],
       "shape": {
        "columns": 1,
        "rows": 325
       }
      },
      "text/plain": [
       "1      2778\n",
       "2      3230\n",
       "3      3575\n",
       "4      3880\n",
       "5      3893\n",
       "       ... \n",
       "423    3450\n",
       "424    3450\n",
       "425    3653\n",
       "426    2822\n",
       "427    3823\n",
       "Name: Weight, Length: 325, dtype: int64"
      ]
     },
     "execution_count": 25,
     "metadata": {},
     "output_type": "execute_result"
    }
   ],
   "source": [
    "heavy_cars = data[data[\"Weight\"]>4000].index\n",
    "print(heavy_cars)\n",
    "\n",
    "data_2 = data\n",
    "\n",
    "data_2 = data.drop(index=heavy_cars)\n",
    "data_2[\"Weight\"]"
   ]
  },
  {
   "cell_type": "code",
   "execution_count": null,
   "metadata": {},
   "outputs": [],
   "source": []
  },
  {
   "cell_type": "code",
   "execution_count": null,
   "metadata": {},
   "outputs": [],
   "source": []
  }
 ],
 "metadata": {
  "kernelspec": {
   "display_name": "base",
   "language": "python",
   "name": "python3"
  },
  "language_info": {
   "codemirror_mode": {
    "name": "ipython",
    "version": 3
   },
   "file_extension": ".py",
   "mimetype": "text/x-python",
   "name": "python",
   "nbconvert_exporter": "python",
   "pygments_lexer": "ipython3",
   "version": "3.12.7"
  }
 },
 "nbformat": 4,
 "nbformat_minor": 2
}
